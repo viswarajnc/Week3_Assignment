{
 "cells": [
  {
   "cell_type": "markdown",
   "id": "1254c89d",
   "metadata": {},
   "source": [
    "## Assignment on Python for Data Science\n"
   ]
  },
  {
   "cell_type": "markdown",
   "id": "a87f0771",
   "metadata": {},
   "source": [
    "# To get the current working directory to place the xls file in the same location"
   ]
  },
  {
   "cell_type": "code",
   "execution_count": 4,
   "id": "4f113b8e",
   "metadata": {},
   "outputs": [
    {
     "name": "stdout",
     "output_type": "stream",
     "text": [
      "C:\\Users\\MY BOOK\n"
     ]
    }
   ],
   "source": [
    "import os\n",
    "curr_dir = os.getcwd()\n",
    "print(curr_dir)"
   ]
  },
  {
   "cell_type": "markdown",
   "id": "dc36f3e9",
   "metadata": {},
   "source": [
    "## 1. Read the dataset to python environment.\n",
    ".\n"
   ]
  },
  {
   "cell_type": "code",
   "execution_count": 11,
   "id": "f0ab14b5",
   "metadata": {},
   "outputs": [
    {
     "name": "stdout",
     "output_type": "stream",
     "text": [
      "      SL   SW   PL   PW  Classification\n",
      "0    5.1  3.5  1.4  0.2     Iris-setosa\n",
      "1    4.9  3.0  1.4  0.2     Iris-setosa\n",
      "2    4.7  3.2  1.3  0.2     Iris-setosa\n",
      "3    4.6  3.1  1.5  0.2     Iris-setosa\n",
      "4    5.0  3.6  1.4  0.2     Iris-setosa\n",
      "..   ...  ...  ...  ...             ...\n",
      "145  6.7  3.0  5.2  2.3  Iris-virginica\n",
      "146  6.3  2.5  5.0  1.9  Iris-virginica\n",
      "147  6.5  3.0  5.2  2.0  Iris-virginica\n",
      "148  6.2  3.4  5.4  2.3  Iris-virginica\n",
      "149  5.9  3.0  5.1  1.8  Iris-virginica\n",
      "\n",
      "[150 rows x 5 columns]\n"
     ]
    }
   ],
   "source": [
    "#import all the relevant libraries\n",
    "import pandas as pd\n",
    "import numpy as np\n",
    "import matplotlib.pyplot as plt\n",
    "import seaborn as sns\n",
    "\n",
    "#Load the xls sheet to a variable named spreadsheet\n",
    "spreadsheet = pd.ExcelFile(r\"iris.xls\")\n",
    "#Move the first sheet (with index value 0) to sstab1 \n",
    "sstab1 = spreadsheet.parse(0)\n",
    "print(sstab1)\n"
   ]
  },
  {
   "cell_type": "markdown",
   "id": "0c294586",
   "metadata": {},
   "source": [
    "# 2. Display the columns in the dataset.\n"
   ]
  },
  {
   "cell_type": "code",
   "execution_count": 20,
   "id": "11ffa905",
   "metadata": {},
   "outputs": [
    {
     "name": "stdout",
     "output_type": "stream",
     "text": [
      "Columns in the given xls are : ['SL' 'SW' 'PL' 'PW' 'Classification']\n",
      "SL Values are \n",
      "0      5.1\n",
      "1      4.9\n",
      "2      4.7\n",
      "3      4.6\n",
      "4      5.0\n",
      "      ... \n",
      "145    6.7\n",
      "146    6.3\n",
      "147    6.5\n",
      "148    6.2\n",
      "149    5.9\n",
      "Name: SL, Length: 150, dtype: float64\n",
      "SW Values are \n",
      "0      3.5\n",
      "1      3.0\n",
      "2      3.2\n",
      "3      3.1\n",
      "4      3.6\n",
      "      ... \n",
      "145    3.0\n",
      "146    2.5\n",
      "147    3.0\n",
      "148    3.4\n",
      "149    3.0\n",
      "Name: SW, Length: 150, dtype: float64\n",
      "PL Values are \n",
      "0      1.4\n",
      "1      1.4\n",
      "2      1.3\n",
      "3      1.5\n",
      "4      1.4\n",
      "      ... \n",
      "145    5.2\n",
      "146    5.0\n",
      "147    5.2\n",
      "148    5.4\n",
      "149    5.1\n",
      "Name: PL, Length: 150, dtype: float64\n",
      "PW Values are \n",
      "0      0.2\n",
      "1      0.2\n",
      "2      0.2\n",
      "3      0.2\n",
      "4      0.2\n",
      "      ... \n",
      "145    2.3\n",
      "146    1.9\n",
      "147    2.0\n",
      "148    2.3\n",
      "149    1.8\n",
      "Name: PW, Length: 150, dtype: float64\n",
      "Classification Values are \n",
      "0         Iris-setosa\n",
      "1         Iris-setosa\n",
      "2         Iris-setosa\n",
      "3         Iris-setosa\n",
      "4         Iris-setosa\n",
      "            ...      \n",
      "145    Iris-virginica\n",
      "146    Iris-virginica\n",
      "147    Iris-virginica\n",
      "148    Iris-virginica\n",
      "149    Iris-virginica\n",
      "Name: Classification, Length: 150, dtype: object\n"
     ]
    }
   ],
   "source": [
    "#Get the column names from current tab using python command\n",
    "columns_list = sstab1.columns.values\n",
    "print(\"Columns in the given xls are :\",columns_list)\n",
    "#Use the above column names and assign it to variables col1,col2 etc\n",
    "col1 = sstab1['SL']\n",
    "col2 = sstab1['SW']\n",
    "col3 = sstab1['PL']\n",
    "col4 = sstab1['PW']\n",
    "col5 = sstab1['Classification']\n",
    "#Print the data in each of the columns \n",
    "print(\"SL Values are \")\n",
    "print(col1)\n",
    "print(\"SW Values are \")\n",
    "print(col2)\n",
    "print(\"PL Values are \")\n",
    "print(col3)\n",
    "print(\"PW Values are \")\n",
    "print(col4) \n",
    "print(\"Classification Values are \")\n",
    "print(col5) \n"
   ]
  },
  {
   "cell_type": "markdown",
   "id": "f8263cb9",
   "metadata": {},
   "source": [
    "## 3. Calculate the mean of each column of the dataset."
   ]
  },
  {
   "cell_type": "code",
   "execution_count": 24,
   "id": "a85bd850",
   "metadata": {},
   "outputs": [
    {
     "name": "stdout",
     "output_type": "stream",
     "text": [
      "SL    5.843333\n",
      "SW    3.054000\n",
      "PL    3.758667\n",
      "PW    1.198667\n",
      "dtype: float64\n",
      "Mean value for SL Column :  5.8433\n",
      "Mean value for SW Column :  3.0540\n",
      "Mean value for PL Column :  3.7587\n",
      "Mean value for PW Column :  1.1987\n"
     ]
    }
   ],
   "source": [
    "#Summary of mean values for applicable columns using python command \n",
    "meanofcolumns = sstab1.mean(axis = 0)\n",
    "print(meanofcolumns)\n",
    "#Mean values for each numerical column. Ignore the string column(Classification)\n",
    "SLMean = col1.mean();\n",
    "SWMean = col2.mean();\n",
    "PLMean = col3.mean();\n",
    "PWMean = col4.mean();\n",
    "#print the mean value of each numericalcolumn correct upto 4 decimal places\n",
    "print(\"Mean value for SL Column : \" , format(SLMean,'.4f'))\n",
    "print(\"Mean value for SW Column : \" , format(SWMean,'.4f'))\n",
    "print(\"Mean value for PL Column : \" , format(PLMean,'.4f'))\n",
    "print(\"Mean value for PW Column : \" , format(PWMean,'.4f'))"
   ]
  },
  {
   "cell_type": "markdown",
   "id": "a575d35b",
   "metadata": {},
   "source": [
    "## 4. Check for the null values present in the dataset."
   ]
  },
  {
   "cell_type": "code",
   "execution_count": 25,
   "id": "5ab13ccd",
   "metadata": {},
   "outputs": [
    {
     "name": "stdout",
     "output_type": "stream",
     "text": [
      "Index([], dtype='object')\n",
      "Are there any null values in the whole sheet ? : False\n"
     ]
    }
   ],
   "source": [
    "#To print null columns in the data set\n",
    "columns_are_null=sstab1.columns[sstab1.isnull().any()]\n",
    "print(columns_are_null)\n",
    "print(\"Are there any null values in the whole sheet ? :\",sstab1.isnull().values.any())\n"
   ]
  },
  {
   "cell_type": "markdown",
   "id": "4fc9869c",
   "metadata": {},
   "source": [
    "## 5. Perform meaningful visualizations using the dataset. Bring at least 3 visualizations."
   ]
  },
  {
   "cell_type": "markdown",
   "id": "eedb2c44",
   "metadata": {},
   "source": [
    "# Visualization1 - Value Range for SL"
   ]
  },
  {
   "cell_type": "code",
   "execution_count": 28,
   "id": "058ec70f",
   "metadata": {},
   "outputs": [
    {
     "data": {
      "text/plain": [
       "(array([ 0.,  5., 10., 15., 20., 25., 30.]),\n",
       " [Text(0, 0, ''),\n",
       "  Text(0, 0, ''),\n",
       "  Text(0, 0, ''),\n",
       "  Text(0, 0, ''),\n",
       "  Text(0, 0, ''),\n",
       "  Text(0, 0, ''),\n",
       "  Text(0, 0, '')])"
      ]
     },
     "execution_count": 28,
     "metadata": {},
     "output_type": "execute_result"
    },
    {
     "data": {
      "image/png": "[encoded data removed]",
      "text/plain": [
       "<Figure size 504x504 with 1 Axes>"
      ]
     },
     "metadata": {
      "needs_background": "light"
     },
     "output_type": "display_data"
    }
   ],
   "source": [
    "plt.figure(figsize=(7,7))\n",
    "plt.hist(col1,color='skyblue')\n",
    "plt.title(\"SL Range\",fontsize=25)\n",
    "plt.xticks()\n",
    "plt.yticks()"
   ]
  },
  {
   "cell_type": "markdown",
   "id": "21141e85",
   "metadata": {},
   "source": [
    "# visualization 2 (SW value Range)"
   ]
  },
  {
   "cell_type": "code",
   "execution_count": 35,
   "id": "5a3520d4",
   "metadata": {},
   "outputs": [
    {
     "data": {
      "text/plain": [
       "(array([ 0.,  5., 10., 15., 20., 25., 30., 35., 40.]),\n",
       " [Text(0, 0, ''),\n",
       "  Text(0, 0, ''),\n",
       "  Text(0, 0, ''),\n",
       "  Text(0, 0, ''),\n",
       "  Text(0, 0, ''),\n",
       "  Text(0, 0, ''),\n",
       "  Text(0, 0, ''),\n",
       "  Text(0, 0, ''),\n",
       "  Text(0, 0, '')])"
      ]
     },
     "execution_count": 35,
     "metadata": {},
     "output_type": "execute_result"
    },
    {
     "data": {
      "image/png": "[encoded data removed]",
      "text/plain": [
       "<Figure size 576x576 with 1 Axes>"
      ]
     },
     "metadata": {
      "needs_background": "light"
     },
     "output_type": "display_data"
    }
   ],
   "source": [
    "plt.figure(figsize=(8,8))\n",
    "plt.hist(col2,color='indianred')\n",
    "plt.title(\"SW value range\",fontsize=20)\n",
    "plt.xlabel(\"SW values\")\n",
    "plt.ylabel(\"Frequencies\")\n",
    "plt.xticks()\n",
    "plt.yticks()"
   ]
  },
  {
   "cell_type": "markdown",
   "id": "45d22e96",
   "metadata": {},
   "source": [
    "# Visualization 3 (PW value range)"
   ]
  },
  {
   "cell_type": "code",
   "execution_count": 33,
   "id": "152ed48b",
   "metadata": {},
   "outputs": [
    {
     "data": {
      "text/plain": [
       "(array([0. , 0.2, 0.4, 0.6, 0.8, 1. , 1.2]),\n",
       " [Text(0, 0, ''),\n",
       "  Text(0, 0, ''),\n",
       "  Text(0, 0, ''),\n",
       "  Text(0, 0, ''),\n",
       "  Text(0, 0, ''),\n",
       "  Text(0, 0, ''),\n",
       "  Text(0, 0, '')])"
      ]
     },
     "execution_count": 33,
     "metadata": {},
     "output_type": "execute_result"
    },
    {
     "data": {
      "image/png": "[encoded data removed]",
      "text/plain": [
       "<Figure size 648x648 with 1 Axes>"
      ]
     },
     "metadata": {
      "needs_background": "light"
     },
     "output_type": "display_data"
    }
   ],
   "source": [
    "plt.figure(figsize=(9,9))\n",
    "plt.hist(col4,color='darkgoldenrod',rwidth=0.9,density=True,cumulative=True)\n",
    "plt.title(\"PW value range\",fontsize=22)\n",
    "plt.xlabel(\"PW values\")\n",
    "plt.ylabel(\"Frequencies\")\n",
    "plt.xticks()\n",
    "plt.yticks()"
   ]
  },
  {
   "cell_type": "markdown",
   "id": "6e1e8097",
   "metadata": {},
   "source": [
    "# Visualization 4 - KDE plot for SL )"
   ]
  },
  {
   "cell_type": "code",
   "execution_count": 43,
   "id": "aae31664",
   "metadata": {},
   "outputs": [
    {
     "data": {
      "text/plain": [
       "<AxesSubplot:ylabel='Density'>"
      ]
     },
     "execution_count": 43,
     "metadata": {},
     "output_type": "execute_result"
    },
    {
     "data": {
      "image/png": "[encoded data removed]",
      "text/plain": [
       "<Figure size 432x288 with 1 Axes>"
      ]
     },
     "metadata": {
      "needs_background": "light"
     },
     "output_type": "display_data"
    }
   ],
   "source": [
    "sstab1['SL'].plot.kde()"
   ]
  },
  {
   "cell_type": "code",
   "execution_count": null,
   "id": "4a2b0d63",
   "metadata": {},
   "outputs": [],
   "source": []
  }
 ],
 "metadata": {
  "kernelspec": {
   "display_name": "Python 3",
   "language": "python",
   "name": "python3"
  },
  "language_info": {
   "codemirror_mode": {
    "name": "ipython",
    "version": 3
   },
   "file_extension": ".py",
   "mimetype": "text/x-python",
   "name": "python",
   "nbconvert_exporter": "python",
   "pygments_lexer": "ipython3",
   "version": "3.8.8"
  }
 },
 "nbformat": 4,
 "nbformat_minor": 5
}
